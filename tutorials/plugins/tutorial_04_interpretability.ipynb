{
 "cells": [
  {
   "cell_type": "markdown",
   "id": "d87b0e87",
   "metadata": {},
   "source": [
    "## Interpretability"
   ]
  },
  {
   "cell_type": "code",
   "execution_count": null,
   "id": "5a551603",
   "metadata": {},
   "outputs": [],
   "source": [
    "# stdlib\n",
    "import copy\n",
    "import warnings\n",
    "from pathlib import Path\n",
    "\n",
    "# third party\n",
    "import matplotlib.pyplot as plt\n",
    "import numpy as np\n",
    "import seaborn as sns\n",
    "\n",
    "# autoprognosis absolute\n",
    "from autoprognosis.plugins.explainers import Explainers\n",
    "from autoprognosis.plugins.prediction import Predictions\n",
    "from autoprognosis.utils.serialization import load_model_from_file, save_model_to_file\n",
    "from autoprognosis.utils.tester import evaluate_estimator\n",
    "\n",
    "warnings.filterwarnings(\"ignore\")\n",
    "\n",
    "\n",
    "models_path = Path(\"./workspace\")\n",
    "print(models_path.absolute())\n",
    "models_path.mkdir(parents=True, exist_ok=True)"
   ]
  },
  {
   "cell_type": "code",
   "execution_count": null,
   "id": "29319926",
   "metadata": {},
   "outputs": [],
   "source": [
    "Explainers().list_available()"
   ]
  },
  {
   "cell_type": "code",
   "execution_count": null,
   "id": "24a91cf7",
   "metadata": {},
   "outputs": [],
   "source": [
    "Predictions().list_available()"
   ]
  },
  {
   "cell_type": "code",
   "execution_count": null,
   "id": "cbf562b0",
   "metadata": {},
   "outputs": [],
   "source": [
    "models = {\n",
    "    \"lime\": {},\n",
    "    \"kernel_shap\": {},\n",
    "    \"invase\": {},\n",
    "}"
   ]
  },
  {
   "cell_type": "markdown",
   "id": "81d41ad1",
   "metadata": {},
   "source": [
    "## Dataset"
   ]
  },
  {
   "cell_type": "code",
   "execution_count": null,
   "id": "002300de",
   "metadata": {},
   "outputs": [],
   "source": [
    "# stdlib\n",
    "import copy\n",
    "\n",
    "# third party\n",
    "import pandas as pd\n",
    "from sklearn.model_selection import train_test_split\n",
    "\n",
    "# Wine Quality Data Set\n",
    "df = pd.read_csv(\n",
    "    \"https://archive.ics.uci.edu/ml/machine-learning-databases/wine-quality/winequality-red.csv\",\n",
    "    sep=\";\",\n",
    ")\n",
    "\n",
    "\n",
    "last_col = df.columns[-1]\n",
    "\n",
    "y = df[last_col]\n",
    "mapped_labels = sorted(y.unique())\n",
    "mapping = {}\n",
    "for idx, label in enumerate(mapped_labels):\n",
    "    mapping[label] = idx\n",
    "y = y.map(mapping)\n",
    "\n",
    "X = df.drop(columns=[last_col])\n",
    "\n",
    "X_train, X_test, y_train, y_test = train_test_split(X, y)\n",
    "\n",
    "test_set = X_test[:10]\n",
    "columns = X.columns\n",
    "\n",
    "X"
   ]
  },
  {
   "cell_type": "markdown",
   "id": "a32e365b",
   "metadata": {},
   "source": [
    "## XGBoost"
   ]
  },
  {
   "cell_type": "code",
   "execution_count": null,
   "id": "b9b1a14a",
   "metadata": {},
   "outputs": [],
   "source": [
    "# Test sanity\n",
    "\n",
    "model = Predictions(category=\"classifier\").get(\"xgboost\")\n",
    "\n",
    "evaluate_estimator(model, X_train, y_train, n_folds=2)[\"str\"]"
   ]
  },
  {
   "cell_type": "code",
   "execution_count": null,
   "id": "f756cceb",
   "metadata": {},
   "outputs": [],
   "source": []
  },
  {
   "cell_type": "code",
   "execution_count": null,
   "id": "45be9d71",
   "metadata": {},
   "outputs": [],
   "source": [
    "# lime\n",
    "\n",
    "\n",
    "def get_lime(category, model_name):\n",
    "    model = Predictions(category).get(model_name)\n",
    "    model_file = models_path / \"lime.p\"\n",
    "\n",
    "    if not model_file.exists():\n",
    "        exp = Explainers().get(\n",
    "            \"lime\",\n",
    "            copy.deepcopy(model),\n",
    "            X_train,\n",
    "            y_train,\n",
    "            feature_names=columns,\n",
    "            task_type=\"classification\",\n",
    "        )\n",
    "        save_model_to_file(model_file, exp)\n",
    "    else:\n",
    "        exp = load_model_from_file(model_file)\n",
    "\n",
    "    return exp\n",
    "\n",
    "\n",
    "def explain_lime(test_set, category, model_name):\n",
    "    exp = get_lime(category, model_name)\n",
    "    output = exp.explain(test_set).squeeze()\n",
    "    print(\"importance \\n\", output)\n",
    "    exp.plot(output, feature_names=list(output.index))\n",
    "\n",
    "\n",
    "explain_lime(test_set.head(1), \"classifier\", \"xgboost\")"
   ]
  },
  {
   "cell_type": "code",
   "execution_count": null,
   "id": "b0a32fdd",
   "metadata": {},
   "outputs": [],
   "source": [
    "# kernel_shap\n",
    "def get_kernel_shap(category, model_name):\n",
    "    model = Predictions(category).get(model_name)\n",
    "    model_file = models_path / \"kernel_shap.p\"\n",
    "\n",
    "    if not model_file.exists():\n",
    "        exp = Explainers().get(\n",
    "            \"kernel_shap\",\n",
    "            copy.deepcopy(model),\n",
    "            X_train,\n",
    "            y_train,\n",
    "            feature_names=columns,\n",
    "            task_type=\"classification\",\n",
    "        )\n",
    "        save_model_to_file(model_file, exp)\n",
    "    else:\n",
    "        exp = load_model_from_file(model_file)\n",
    "\n",
    "    return exp\n",
    "\n",
    "\n",
    "def explain_kernel_shap(test_set, category, model_name):\n",
    "    exp = get_kernel_shap(category, model_name)\n",
    "    exp.plot(test_set)\n",
    "\n",
    "\n",
    "explain_kernel_shap(test_set, \"classifier\", \"xgboost\")"
   ]
  },
  {
   "cell_type": "code",
   "execution_count": null,
   "id": "3b631b13",
   "metadata": {},
   "outputs": [],
   "source": [
    "# invase\n",
    "def get_invase(category, model_name):\n",
    "    model = Predictions(category).get(model_name)\n",
    "    model_file = models_path / \"invase.p\"\n",
    "\n",
    "    if not model_file.exists():\n",
    "        exp = Explainers().get(\n",
    "            \"invase\",\n",
    "            copy.deepcopy(model),\n",
    "            X_train,\n",
    "            y_train,\n",
    "            feature_names=columns,\n",
    "            n_folds=1,\n",
    "            n_epoch=200,\n",
    "            task_type=\"classification\",\n",
    "        )\n",
    "        save_model_to_file(model_file, exp)\n",
    "    else:\n",
    "        exp = load_model_from_file(model_file)\n",
    "\n",
    "    return exp\n",
    "\n",
    "\n",
    "def explain_invase(test_set, category, model_name):\n",
    "    exp = get_invase(category, model_name)\n",
    "    output = exp.explain(test_set)\n",
    "\n",
    "    exp.plot(output)\n",
    "\n",
    "\n",
    "explain_invase(test_set, \"classifier\", \"xgboost\")"
   ]
  },
  {
   "cell_type": "markdown",
   "id": "87a72383",
   "metadata": {},
   "source": [
    "# Congratulations!\n",
    "\n",
    "Congratulations on completing this notebook tutorial! If you enjoyed this and would like to join the movement towards Machine learning and AI for medicine, you can do so in the following ways!\n",
    "\n",
    "### Star AutoPrognosis on GitHub\n",
    "\n",
    "The easiest way to help our community is just by starring the Repos! This helps raise awareness of the tools we're building.\n",
    "\n",
    "- [Star AutoPrognosis](https://github.com/vanderschaarlab/autoprognosis)\n",
    "- [Star HyperImpute](https://github.com/vanderschaarlab/hyperimpute)\n"
   ]
  },
  {
   "cell_type": "code",
   "execution_count": null,
   "id": "3279748e",
   "metadata": {},
   "outputs": [],
   "source": []
  }
 ],
 "metadata": {
  "kernelspec": {
   "display_name": "Python 3 (ipykernel)",
   "language": "python",
   "name": "python3"
  },
  "language_info": {
   "codemirror_mode": {
    "name": "ipython",
    "version": 3
   },
   "file_extension": ".py",
   "mimetype": "text/x-python",
   "name": "python",
   "nbconvert_exporter": "python",
   "pygments_lexer": "ipython3",
   "version": "3.8.13"
  }
 },
 "nbformat": 4,
 "nbformat_minor": 5
}
