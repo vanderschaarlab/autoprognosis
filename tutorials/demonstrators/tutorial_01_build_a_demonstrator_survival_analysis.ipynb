{
 "cells": [
  {
   "cell_type": "markdown",
   "id": "c27fa06b",
   "metadata": {},
   "source": [
    "# Tutorial: Build a demonstrator for Survival Analysis\n",
    "\n",
    "Welcome!\n",
    "\n",
    "This tutorial will walk you through the steps of selecting a model for a survival analysis task, and creating a demonstrator on top of it."
   ]
  },
  {
   "cell_type": "code",
   "execution_count": null,
   "id": "8d3dc094",
   "metadata": {},
   "outputs": [],
   "source": [
    "# stdlib\n",
    "import sys\n",
    "import warnings\n",
    "\n",
    "# third party\n",
    "import numpy as np\n",
    "import pandas as pd\n",
    "\n",
    "warnings.filterwarnings(\"ignore\")\n",
    "\n",
    "# autoprognosis absolute\n",
    "import autoprognosis.logger as log\n",
    "from autoprognosis.studies.risk_estimation import RiskEstimationStudy"
   ]
  },
  {
   "cell_type": "code",
   "execution_count": null,
   "id": "15ec7b75",
   "metadata": {},
   "outputs": [],
   "source": [
    "log.add(sink=sys.stderr, level=\"INFO\")"
   ]
  },
  {
   "cell_type": "markdown",
   "id": "2f0827f5",
   "metadata": {},
   "source": [
    "## Load dataset\n"
   ]
  },
  {
   "cell_type": "code",
   "execution_count": null,
   "id": "c45ad99e",
   "metadata": {},
   "outputs": [],
   "source": [
    "# third party\n",
    "from pycox import datasets\n",
    "\n",
    "df = datasets.gbsg.read_df()\n",
    "df = df[df[\"duration\"] > 0]\n",
    "\n",
    "X = df.drop(columns=[\"duration\", \"event\"])\n",
    "T = df[\"duration\"]\n",
    "Y = df[\"event\"]\n",
    "\n",
    "eval_time_horizons = [\n",
    "    int(T[Y.iloc[:] == 1].quantile(0.25)),\n",
    "    int(T[Y.iloc[:] == 1].quantile(0.50)),\n",
    "    int(T[Y.iloc[:] == 1].quantile(0.75)),\n",
    "]"
   ]
  },
  {
   "cell_type": "code",
   "execution_count": null,
   "id": "fe8bcb2c",
   "metadata": {},
   "outputs": [],
   "source": [
    "dataset = X.copy()\n",
    "dataset[\"target\"] = Y\n",
    "dataset[\"time_to_event\"] = T"
   ]
  },
  {
   "cell_type": "markdown",
   "id": "e2680f42",
   "metadata": {},
   "source": [
    "##  Select model"
   ]
  },
  {
   "cell_type": "code",
   "execution_count": null,
   "id": "072f65a4",
   "metadata": {},
   "outputs": [],
   "source": [
    "# stdlib\n",
    "from pathlib import Path\n",
    "\n",
    "workspace = Path(\"workspace\")\n",
    "workspace.mkdir(parents=True, exist_ok=True)\n",
    "\n",
    "study_name = \"test_demonstrator_survival\"\n",
    "\n",
    "study = RiskEstimationStudy(\n",
    "    study_name=study_name,\n",
    "    dataset=dataset,\n",
    "    target=\"target\",\n",
    "    time_to_event=\"time_to_event\",\n",
    "    time_horizons=eval_time_horizons,\n",
    "    num_iter=2,\n",
    "    num_study_iter=1,\n",
    "    timeout=60,\n",
    "    risk_estimators=[\"cox_ph\", \"lognormal_aft\", \"survival_xgboost\"],\n",
    "    imputers=[\"mean\", \"ice\", \"median\"],\n",
    "    feature_scaling=[\"minmax_scaler\", \"nop\"],\n",
    "    score_threshold=0.4,\n",
    "    workspace=workspace,\n",
    ")"
   ]
  },
  {
   "cell_type": "code",
   "execution_count": null,
   "id": "6e6ebb79",
   "metadata": {},
   "outputs": [],
   "source": [
    "study.run()"
   ]
  },
  {
   "cell_type": "markdown",
   "id": "da411a3f",
   "metadata": {},
   "source": [
    "## Build the demonstrator"
   ]
  },
  {
   "cell_type": "code",
   "execution_count": null,
   "id": "90dc77ad",
   "metadata": {},
   "outputs": [],
   "source": [
    "# stdlib\n",
    "from pathlib import Path\n",
    "\n",
    "# autoprognosis absolute\n",
    "from autoprognosis.deploy.build import Builder\n",
    "from autoprognosis.deploy.proto import NewRiskEstimationAppProto\n",
    "\n",
    "dataset_path = workspace / \"demo_dataset_surv.csv\"\n",
    "dataset.to_csv(dataset_path, index=None)\n",
    "\n",
    "name = \"AutoPrognosis demo: Survival Analysis\"\n",
    "model_path = workspace / study_name / \"model.p\"\n",
    "\n",
    "time_column = \"time_to_event\"\n",
    "target_column = \"target\"\n",
    "task_type = \"risk_estimation\"\n",
    "\n",
    "task = Builder(\n",
    "    NewRiskEstimationAppProto(\n",
    "        **{\n",
    "            \"name\": name,\n",
    "            \"type\": task_type,\n",
    "            \"dataset_path\": str(dataset_path),\n",
    "            \"model_path\": str(model_path),\n",
    "            \"time_column\": time_column,\n",
    "            \"target_column\": target_column,\n",
    "            \"horizons\": eval_time_horizons,\n",
    "            \"explainers\": [\"kernel_shap\"],\n",
    "            \"imputers\": [],\n",
    "            \"plot_alternatives\": [],\n",
    "            \"comparative_models\": [\n",
    "                (\n",
    "                    \"Cox PH\",  # display name\n",
    "                    \"cox_ph\",  # autoprognosis plugin name\n",
    "                    {},  # plugin args\n",
    "                ),\n",
    "            ],\n",
    "            \"auth\": False,\n",
    "            \"extras_cbk\": None,\n",
    "        }\n",
    "    ),\n",
    ")\n",
    "\n",
    "app_path = task.run()\n",
    "\n",
    "app_path"
   ]
  },
  {
   "cell_type": "markdown",
   "id": "ffd1932a",
   "metadata": {},
   "source": [
    "## Run the demonstrator"
   ]
  },
  {
   "cell_type": "code",
   "execution_count": null,
   "id": "fde589aa",
   "metadata": {},
   "outputs": [],
   "source": [
    "# Prepare the entry file for Streamlit - app.py\n",
    "script = f\"\"\"\n",
    "from pathlib import Path\n",
    "from autoprognosis.deploy.run import start_app_server\n",
    "\n",
    "app_path = '{app_path}'\n",
    "start_app_server(Path(app_path))\n",
    "\"\"\"\n",
    "\n",
    "with open(workspace / \"app_surv.py\", \"w\") as f:\n",
    "    f.write(script)"
   ]
  },
  {
   "cell_type": "code",
   "execution_count": null,
   "id": "ba4466ad",
   "metadata": {},
   "outputs": [],
   "source": [
    "!streamlit run workspace/app_surv.py"
   ]
  },
  {
   "cell_type": "markdown",
   "id": "62943458",
   "metadata": {},
   "source": [
    "# Congratulations!\n",
    "\n",
    "Congratulations on completing this notebook tutorial! If you enjoyed this and would like to join the movement towards Machine learning and AI for medicine, you can do so in the following ways!\n",
    "\n",
    "### Star AutoPrognosis on GitHub\n",
    "\n",
    "The easiest way to help our community is just by starring the Repos! This helps raise awareness of the tools we're building.\n",
    "\n",
    "- [Star AutoPrognosis](https://github.com/vanderschaarlab/autoprognosis)\n",
    "- [Star HyperImpute](https://github.com/vanderschaarlab/hyperimpute)\n"
   ]
  }
 ],
 "metadata": {
  "kernelspec": {
   "display_name": "py310_autoprognosis",
   "language": "python",
   "name": "python3"
  },
  "language_info": {
   "codemirror_mode": {
    "name": "ipython",
    "version": 3
   },
   "file_extension": ".py",
   "mimetype": "text/x-python",
   "name": "python",
   "nbconvert_exporter": "python",
   "pygments_lexer": "ipython3",
   "version": "3.10.16"
  }
 },
 "nbformat": 4,
 "nbformat_minor": 5
}
