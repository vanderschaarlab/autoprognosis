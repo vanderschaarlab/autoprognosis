{
 "cells": [
  {
   "cell_type": "markdown",
   "id": "molecular-moscow",
   "metadata": {},
   "source": [
    "# Pipelines"
   ]
  },
  {
   "cell_type": "markdown",
   "id": "corrected-basis",
   "metadata": {},
   "source": [
    "\n",
    "**AutoPrognosis** provides **pipelines**, a way to chain multiple Plugins together, and sample from their joint hyperparameter space."
   ]
  },
  {
   "cell_type": "markdown",
   "id": "multiple-annotation",
   "metadata": {},
   "source": [
    "### Pipelines 101\n",
    "\n",
    "Every **AutoPrognosis pipeline** consists of an arbitrary number of **AutoPrognosis plugins**.\n",
    "\n",
    "Every plugin must be included in the pipeline **at most once**.\n",
    "There can be only one **prediction plugin** and it has to be on the last layer of the Pipeline."
   ]
  },
  {
   "cell_type": "markdown",
   "id": "auburn-hygiene",
   "metadata": {},
   "source": [
    "### Setup"
   ]
  },
  {
   "cell_type": "code",
   "execution_count": null,
   "id": "wanted-point",
   "metadata": {},
   "outputs": [],
   "source": [
    "# stdlib\n",
    "import json\n",
    "import random\n",
    "import sys\n",
    "import time\n",
    "import warnings\n",
    "\n",
    "import tabulate\n",
    "\n",
    "# third party\n",
    "from IPython.display import HTML, display\n",
    "from sklearn import metrics\n",
    "from sklearn.datasets import load_breast_cancer\n",
    "from sklearn.model_selection import train_test_split\n",
    "from tqdm import tqdm\n",
    "\n",
    "# autoprognosis absolute\n",
    "from autoprognosis.plugins.utils.simulate import simulate_nan\n",
    "\n",
    "if not sys.warnoptions:\n",
    "    warnings.simplefilter(\"ignore\")"
   ]
  },
  {
   "cell_type": "markdown",
   "id": "devoted-console",
   "metadata": {},
   "source": [
    "### Loading the plugins\n",
    "\n",
    "Make sure that you have installed AutoPrognosis in your workspace.\n",
    "\n",
    "You can do that by running `pip install .` in the root of the repository."
   ]
  },
  {
   "cell_type": "code",
   "execution_count": null,
   "id": "coated-innocent",
   "metadata": {},
   "outputs": [],
   "source": [
    "# autoprognosis absolute\n",
    "from autoprognosis.plugins import Plugins\n",
    "\n",
    "plugins = Plugins()"
   ]
  },
  {
   "cell_type": "markdown",
   "id": "refined-booth",
   "metadata": {},
   "source": [
    "### List the plugins"
   ]
  },
  {
   "cell_type": "code",
   "execution_count": null,
   "id": "incident-familiar",
   "metadata": {},
   "outputs": [],
   "source": [
    "print(json.dumps(plugins.list_available(), indent=2))"
   ]
  },
  {
   "cell_type": "markdown",
   "id": "dominican-tulsa",
   "metadata": {},
   "source": [
    "### Creating a pipeline\n",
    "\n",
    "The Pipeline constructor expects a list of strings with the format `<plugin_type>.<plugin_name>`.\n"
   ]
  },
  {
   "cell_type": "code",
   "execution_count": null,
   "id": "529fd74d",
   "metadata": {},
   "outputs": [],
   "source": [
    "# autoprognosis absolute\n",
    "from autoprognosis.plugins.pipeline import Pipeline\n",
    "\n",
    "pipeling_t = Pipeline(\n",
    "    [\"preprocessor.dimensionality_reduction.pca\", \"prediction.classifier.neural_nets\"]\n",
    ")\n",
    "\n",
    "pipeling_t.name()"
   ]
  },
  {
   "cell_type": "markdown",
   "id": "advance-expert",
   "metadata": {},
   "source": [
    "## Testing the pipelines\n",
    "\n",
    "Testing parameters:\n",
    " - __Dataset__ : Breast cancer wisconsin dataset.\n",
    " - __Amputation__: MAR with 20% missingness."
   ]
  },
  {
   "cell_type": "code",
   "execution_count": null,
   "id": "6df23873",
   "metadata": {},
   "outputs": [],
   "source": [
    "def get_metrics(pipeline, X_train, y_train, X_test, y_test):\n",
    "    pipeline.fit(X_train, y_train)\n",
    "\n",
    "    y_pred = pipeline.predict(X_test)\n",
    "\n",
    "    score = metrics.accuracy_score(y_test, y_pred)\n",
    "\n",
    "    fpr, tpr, thresholds = metrics.roc_curve(y_test, y_pred)\n",
    "    auroc = metrics.auc(fpr, tpr)\n",
    "\n",
    "    prec, recall, thresholds = metrics.precision_recall_curve(y_test, y_pred)\n",
    "    aurpc = metrics.auc(recall, prec)\n",
    "\n",
    "    return round(score, 4), round(auroc, 4), round(aurpc, 4)\n",
    "\n",
    "\n",
    "def ampute_dataset(x, mechanism, p_miss):\n",
    "    x_simulated = simulate_nan(x, p_miss, mechanism)\n",
    "\n",
    "    mask = x_simulated[\"mask\"]\n",
    "    x_miss = x_simulated[\"X_incomp\"]\n",
    "\n",
    "    return x, x_miss, mask\n",
    "\n",
    "\n",
    "X, y = load_breast_cancer(return_X_y=True)\n",
    "X_train, X_test, y_train, y_test = train_test_split(X, y, test_size=0.2)\n",
    "\n",
    "_, X_train, _ = ampute_dataset(X_train, \"MAR\", 0.2)"
   ]
  },
  {
   "cell_type": "code",
   "execution_count": null,
   "id": "00312e34",
   "metadata": {},
   "outputs": [],
   "source": [
    "metrics_headers = [\"Pipeline\", \"Accuracy\", \"AUROC\", \"AURPC\"]\n",
    "\n",
    "plugin_subset = {\n",
    "    \"imputer.default\": [\n",
    "        \"most_frequent\",\n",
    "        \"median\",\n",
    "        \"mean\",\n",
    "    ],\n",
    "    \"prediction.classifier\": [\n",
    "        \"adaboost\",\n",
    "        \"xgboost\",\n",
    "        \"decision_trees\",\n",
    "        \"gradient_boosting\",\n",
    "        \"logistic_regression\",\n",
    "    ],\n",
    "    \"preprocessor.feature_scaling\": [\"maxabs_scaler\", \"minmax_scaler\"],\n",
    "}\n",
    "\n",
    "test_score = []\n",
    "\n",
    "for experiment in range(20):\n",
    "    plugin_sample = []\n",
    "    for cat in [\n",
    "        \"imputer.default\",\n",
    "        \"preprocessor.feature_scaling\",\n",
    "        \"prediction.classifier\",\n",
    "    ]:\n",
    "        plugin = random.choice(plugin_subset[cat])\n",
    "        plugin_sample.append(cat + \".\" + plugin)\n",
    "\n",
    "    pipeling_t = Pipeline(plugin_sample)\n",
    "    pipeline = pipeling_t()\n",
    "\n",
    "    score, auroc, aurpc = get_metrics(pipeline, X_train, y_train, X_test, y_test)\n",
    "\n",
    "    test_score.append([pipeling_t.name(), score, auroc, aurpc])"
   ]
  },
  {
   "cell_type": "code",
   "execution_count": null,
   "id": "7644137c",
   "metadata": {},
   "outputs": [],
   "source": [
    "display(HTML(tabulate.tabulate(test_score, headers=metrics_headers, tablefmt=\"html\")))"
   ]
  },
  {
   "cell_type": "markdown",
   "id": "neural-dutch",
   "metadata": {},
   "source": [
    "# Congratulations!\n",
    "\n",
    "Congratulations on completing this notebook tutorial! If you enjoyed this and would like to join the movement towards Machine learning and AI for medicine, you can do so in the following ways!\n",
    "\n",
    "### Star AutoPrognosis on GitHub\n",
    "\n",
    "The easiest way to help our community is just by starring the Repos! This helps raise awareness of the tools we're building.\n",
    "\n",
    "- [Star AutoPrognosis](https://github.com/vanderschaarlab/autoprognosis)\n",
    "- [Star HyperImpute](https://github.com/vanderschaarlab/hyperimpute)\n"
   ]
  }
 ],
 "metadata": {
  "kernelspec": {
   "display_name": "Python 3 (ipykernel)",
   "language": "python",
   "name": "python3"
  },
  "language_info": {
   "codemirror_mode": {
    "name": "ipython",
    "version": 3
   },
   "file_extension": ".py",
   "mimetype": "text/x-python",
   "name": "python",
   "nbconvert_exporter": "python",
   "pygments_lexer": "ipython3",
   "version": "3.8.13"
  }
 },
 "nbformat": 4,
 "nbformat_minor": 5
}
